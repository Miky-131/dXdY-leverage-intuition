{
 "cells": [
  {
   "cell_type": "code",
   "execution_count": null,
   "id": "8b6321ba-9fc3-4f31-b154-51dceb434fab",
   "metadata": {},
   "outputs": [],
   "source": [
    "import pandas as pd"
   ]
  },
  {
   "cell_type": "code",
   "execution_count": null,
   "id": "85dadc5e-4fdf-471e-b7bd-20678ec36005",
   "metadata": {},
   "outputs": [],
   "source": [
    "import numpy as np"
   ]
  },
  {
   "cell_type": "code",
   "execution_count": null,
   "id": "e9f9d655-5cf6-4a1b-9e57-7b003e7a616b",
   "metadata": {},
   "outputs": [],
   "source": [
    "import xarray as xr"
   ]
  },
  {
   "cell_type": "code",
   "execution_count": null,
   "id": "16550e3a-4ebc-49e5-8b5a-3dab34b5f00b",
   "metadata": {},
   "outputs": [],
   "source": [
    "import matplotlib as mpl\n",
    "import matplotlib.pyplot as plt\n",
    "\n",
    "import seaborn as sns"
   ]
  },
  {
   "cell_type": "code",
   "execution_count": null,
   "id": "af4120a9-532c-49ad-ae21-afce7453a19e",
   "metadata": {},
   "outputs": [],
   "source": [
    "import matplotlib.animation as animation"
   ]
  },
  {
   "cell_type": "code",
   "execution_count": null,
   "id": "ffe06c9f-9bb4-45a6-bea6-1089c9cfa845",
   "metadata": {},
   "outputs": [],
   "source": [
    "import research.src.stylesheets.style as style"
   ]
  },
  {
   "cell_type": "code",
   "execution_count": null,
   "id": "70212e92-0b9c-4075-beb2-00e5bf117ed7",
   "metadata": {},
   "outputs": [],
   "source": [
    "from ipywidgets.widgets import interact, IntSlider, FloatSlider, Layout"
   ]
  },
  {
   "cell_type": "code",
   "execution_count": null,
   "id": "37f7d699-d09c-4509-a5a6-e460ec63715a",
   "metadata": {},
   "outputs": [],
   "source": [
    "annual_log_return_sigma = .7\n",
    "sim_count = int(1e4)\n",
    "sim_days = 365"
   ]
  },
  {
   "cell_type": "code",
   "execution_count": null,
   "id": "fdcdbc9e-8aa9-4b4d-9a01-e65265776dad",
   "metadata": {},
   "outputs": [],
   "source": [
    "annual_simple_return = np.array([0, .1, .3, .5, 1])"
   ]
  },
  {
   "cell_type": "code",
   "execution_count": null,
   "id": "e3eb6925-03a0-4c86-8034-e4cfb65df39f",
   "metadata": {},
   "outputs": [],
   "source": [
    "leverage = np.array([1, 2, 3, 4, 5, 7, 10, 20])"
   ]
  },
  {
   "cell_type": "code",
   "execution_count": null,
   "id": "0ae56cac-7054-41b9-91a4-3873663604f4",
   "metadata": {},
   "outputs": [],
   "source": [
    "annual_log_return = np.log(1 + annual_simple_return) - annual_log_return_sigma **2 / 2"
   ]
  },
  {
   "cell_type": "code",
   "execution_count": null,
   "id": "adb82476-d1da-4590-9003-761b2fc7f66f",
   "metadata": {},
   "outputs": [],
   "source": [
    "annual_simple_sigma = np.sqrt(\n",
    "    (\n",
    "        np.exp(annual_log_return_sigma ** 2) - 1\n",
    "    )\n",
    "    *\n",
    "    np.exp(2 * annual_log_return + annual_log_return_sigma ** 2)\n",
    ")\n"
   ]
  },
  {
   "cell_type": "code",
   "execution_count": null,
   "id": "c2f269e2-8697-4f26-a159-092dce3d0f53",
   "metadata": {},
   "outputs": [],
   "source": [
    "ds = xr.Dataset()\n",
    "\n",
    "ds = ds.assign_coords(leverage=leverage)"
   ]
  },
  {
   "cell_type": "code",
   "execution_count": null,
   "id": "dc090fa2-bfc7-47f8-b238-f950e9fc79ae",
   "metadata": {},
   "outputs": [],
   "source": [
    "np.random.seed(0)\n",
    "\n",
    "ds[\"log_returns\"] = xr.DataArray(\n",
    "    data = np.random.normal(\n",
    "        loc = annual_log_return / sim_days,\n",
    "        scale = annual_log_return_sigma / np.sqrt(sim_days),\n",
    "        size = (sim_count, sim_days, len(annual_log_return))\n",
    "    ),\n",
    "    coords = {\n",
    "        \"sim\": np.arange(sim_count),\n",
    "        \"date\": np.arange(sim_days),\n",
    "        \"annual_simple_return\": annual_simple_return\n",
    "    },\n",
    "    dims = [\"sim\", \"date\", \"annual_simple_return\"]\n",
    ").pipe(lambda x: xr.broadcast(x, ds[\"leverage\"])[0])\n",
    "\n",
    "ds = ds.transpose(\"leverage\", \"annual_simple_return\", ...)\n",
    "\n",
    "ds[\"annual_simple_sigma\"] = xr.DataArray(\n",
    "    data = annual_simple_sigma,\n",
    "    coords = {\"annual_simple_return\": annual_simple_return},\n",
    "    dims = [\"annual_simple_return\"]\n",
    ")"
   ]
  },
  {
   "cell_type": "code",
   "execution_count": null,
   "id": "3e40a0d9-fcb9-43f2-b295-f76362bfba0a",
   "metadata": {},
   "outputs": [],
   "source": [
    "ds[\"cum_log_returns\"] = (\n",
    "    (\n",
    "        ds[\"log_returns\"]\n",
    "    )\n",
    "    .cumsum(dim=\"date\")\n",
    ")\n",
    "\n",
    "ds[\"returns\"] = (\n",
    "    ds[\"log_returns\"]\n",
    "    .pipe(lambda x: np.exp(x) - 1)\n",
    ")\n",
    "\n",
    "ds[\"cum_returns\"] = (\n",
    "    ds[\"cum_log_returns\"]\n",
    "    .pipe(lambda x: np.exp(x) - 1)\n",
    ")\n",
    "\n",
    "ds[\"cum_min\"] = xr.apply_ufunc(\n",
    "    lambda x: np.minimum.accumulate(x, axis=0),\n",
    "    ds[\"cum_returns\"].transpose(\"date\", ...),\n",
    ")\n",
    "\n",
    "ds[\"liquidated\"] = (\n",
    "    ds[\"cum_min\"]\n",
    "    <\n",
    "    -(1. / ds[\"leverage\"])\n",
    ")\n",
    "\n",
    "ds[\"fraction_liquidated\"] = (\n",
    "    ds[\"liquidated\"]\n",
    "    .pipe(lambda x: x.sum(\"sim\") / x.count(\"sim\"))\n",
    ")\n",
    "\n",
    "ds[\"fraction_liquidated_simwise\"] = (\n",
    "    ds[\"liquidated\"]\n",
    "    .pipe(lambda x: x.cumsum(\"sim\") / (ds[\"sim\"] + 1))\n",
    ")"
   ]
  },
  {
   "cell_type": "markdown",
   "id": "65a7e3f9-710a-4240-8af9-3de0edc91895",
   "metadata": {
    "tags": []
   },
   "source": [
    "#### Viz"
   ]
  },
  {
   "cell_type": "code",
   "execution_count": null,
   "id": "c84a647e-b8ab-4fad-824c-e352c33e65c9",
   "metadata": {},
   "outputs": [],
   "source": [
    "style.use_stylesheet([\"cms\", \"publication\"])"
   ]
  },
  {
   "cell_type": "code",
   "execution_count": null,
   "id": "f58df94f-0706-4038-ba8d-3880f0d71587",
   "metadata": {},
   "outputs": [],
   "source": [
    "(\n",
    "    ds[\"fraction_liquidated\"]\n",
    "    .sel(annual_simple_return=.3)\n",
    "    .sel(leverage=5)\n",
    ").T.to_pandas().plot(title=\"fraction of return paths liquidated over time\", xlabel=\"days\", ylabel=\"fraction of return paths\")\n"
   ]
  },
  {
   "cell_type": "code",
   "execution_count": null,
   "id": "59eb711a-6466-4fc0-902a-5296a215e181",
   "metadata": {},
   "outputs": [],
   "source": [
    "ax = sns.heatmap(\n",
    "    (\n",
    "        ds[\"fraction_liquidated\"]\n",
    "        .isel(date=-1)\n",
    "        .rename({\"annual_simple_return\": \"expected annual return\"})\n",
    "        .to_pandas()\n",
    "    ),\n",
    "    xticklabels=[\"{:.0%}\".format(x) for x in ds[\"annual_simple_return\"].values],\n",
    "    annot=True,\n",
    "    fmt=\".0%\",\n",
    "    cmap=\"cms\",\n",
    "    cbar=False,\n",
    ")\n",
    "\n",
    "ax.set_title(\"liquidation likelihoods across leverage and alpha\")\n",
    "\n"
   ]
  },
  {
   "cell_type": "code",
   "execution_count": null,
   "id": "41fc24b9-80ac-46fe-80f8-89aa27ee5119",
   "metadata": {},
   "outputs": [],
   "source": [
    "# ax.get_figure().savefig(\"heatmap.jpg\")"
   ]
  },
  {
   "cell_type": "code",
   "execution_count": null,
   "id": "99130c59-fa65-4b8e-a423-138e3dba9814",
   "metadata": {},
   "outputs": [],
   "source": [
    "(\n",
    "    ds[\"cum_log_returns\"]   \n",
    "    .isel(date=-1)\n",
    "    .sel(leverage=5)\n",
    "    .sel(annual_simple_return = .3)\n",
    ").to_pandas().plot.hist(bins=500)"
   ]
  },
  {
   "cell_type": "code",
   "execution_count": null,
   "id": "9140e623-c252-4fd5-8e2a-9fd613769947",
   "metadata": {},
   "outputs": [],
   "source": [
    "ax = (\n",
    "    ds[\"cum_returns\"]   \n",
    "    .isel(date=-1)\n",
    "    .sel(leverage=5)\n",
    "    .sel(annual_simple_return = .3)\n",
    ").to_pandas().plot.hist(bins=200, xlim=(-1, 5), title=\"simulated return distribution\")\n",
    "\n",
    "ax.set(xlabel=\"return\", ylabel=\"sim count\")\n",
    "\n",
    "current_values = plt.gca().get_xticks()\n",
    "ax.set_xticklabels(['{:,.0%}'.format(x) for x in current_values])"
   ]
  },
  {
   "cell_type": "markdown",
   "id": "cd677ad7-771d-4c11-b247-f7293c57627e",
   "metadata": {},
   "source": [
    "### Animation"
   ]
  },
  {
   "cell_type": "code",
   "execution_count": null,
   "id": "4a2f6781-59c0-4659-8234-0fa8a9182b92",
   "metadata": {},
   "outputs": [],
   "source": [
    "num_walks = 2000"
   ]
  },
  {
   "cell_type": "code",
   "execution_count": null,
   "id": "ccdfb981-3fa1-4548-964b-5247ae9bc8d5",
   "metadata": {},
   "outputs": [],
   "source": [
    "fig = plt.figure(figsize=(10, 5))"
   ]
  },
  {
   "cell_type": "code",
   "execution_count": null,
   "id": "e801bffc-0b22-4810-ac23-f3ffea53e539",
   "metadata": {},
   "outputs": [],
   "source": [
    "ax = fig.add_subplot()"
   ]
  },
  {
   "cell_type": "code",
   "execution_count": null,
   "id": "a0261486-dd07-4be2-a8de-8264fa32be42",
   "metadata": {},
   "outputs": [],
   "source": [
    "ax2 = ax.twinx()"
   ]
  },
  {
   "cell_type": "code",
   "execution_count": null,
   "id": "e1af1b16-5399-4a5f-b9c3-7e8317e4964f",
   "metadata": {},
   "outputs": [],
   "source": [
    "ax.set(xlim=(0, 360), xlabel='days')\n",
    "ax.set(ylim=(-1, 5), ylabel='ETH return')\n",
    "\n",
    "current_values = ax.get_yticks()\n",
    "_ = ax.set_yticklabels(['{:,.0%}'.format(x) for x in current_values])\n",
    "    "
   ]
  },
  {
   "cell_type": "code",
   "execution_count": null,
   "id": "79b15578-d766-4469-9c2e-0becc909bca6",
   "metadata": {},
   "outputs": [],
   "source": [
    "ax2.set(xlim=(0, 360), xlabel='days')\n",
    "ax2.set(ylim=(0, 1), ylabel='% sims liquidated')\n",
    "\n",
    "current_values = ax2.get_yticks()\n",
    "_ = ax2.set_yticklabels(['{:,.0%}'.format(x) for x in current_values])"
   ]
  },
  {
   "cell_type": "code",
   "execution_count": null,
   "id": "5340f913-8d63-4e9c-be8b-41db2a199c11",
   "metadata": {},
   "outputs": [],
   "source": [
    "liq_line = ax.plot(\n",
    "    ds[\"date\"].values,\n",
    "    [-.2 for _ in ds[\"date\"]],\n",
    "    linestyle=\"--\",\n",
    "    color='#807E98',\n",
    "    zorder=1,\n",
    ")[0]"
   ]
  },
  {
   "cell_type": "code",
   "execution_count": null,
   "id": "8271f66e-ad59-485e-bcf1-a1d89f8857cd",
   "metadata": {},
   "outputs": [],
   "source": [
    "frac_liq_line = ax2.plot([], [], color='#C8C7D8', zorder=2)[0]"
   ]
  },
  {
   "cell_type": "code",
   "execution_count": null,
   "id": "5725fbdd-83b8-44d9-a52e-b0d298dfdf0f",
   "metadata": {},
   "outputs": [],
   "source": [
    "legend_lines = [\n",
    "    ax.plot([], [], alpha = .5, color='#16B57F', zorder=0)[0],\n",
    "    ax.plot([], [], alpha = .5, color='#E45555', zorder=0)[0],\n",
    "]"
   ]
  },
  {
   "cell_type": "code",
   "execution_count": null,
   "id": "bc722937-1418-441d-aaa3-ad8673960ccb",
   "metadata": {},
   "outputs": [],
   "source": [
    "lines = [\n",
    "    [\n",
    "        ax.plot([], [], alpha = .05, color='#16B57F', zorder=0)[0],\n",
    "        ax.plot([], [], alpha = .05, color='#E45555', zorder=0)[0],\n",
    "    ]\n",
    "    for _\n",
    "    in range(num_walks)\n",
    "]"
   ]
  },
  {
   "cell_type": "code",
   "execution_count": null,
   "id": "2731a743-9869-4220-8b44-e2bdcf85867d",
   "metadata": {},
   "outputs": [],
   "source": [
    "ax.legend(\n",
    "    [legend_lines[0], legend_lines[1], liq_line, frac_liq_line],\n",
    "    [\n",
    "        \"sims unliquidated\",\n",
    "        \"sims liquidated\",\n",
    "        \"liquidation threshold\",\n",
    "        \"% sims liquidated (rhs)\"\n",
    "    ]\n",
    ")"
   ]
  },
  {
   "cell_type": "code",
   "execution_count": null,
   "id": "57c12c1b-affd-4433-baff-f76d86a1fd9b",
   "metadata": {},
   "outputs": [],
   "source": [
    "def add_line(num):\n",
    "    liquidated_mask=(\n",
    "        ds[\"liquidated\"]\n",
    "        .sel(annual_simple_return=.3)\n",
    "        .sel(leverage=5)\n",
    "        .isel(sim=num)\n",
    "        .shift(date=1)\n",
    "    ) == True\n",
    "    \n",
    "    not_liquidated_mask=(\n",
    "        (~ds[\"liquidated\"])\n",
    "        .sel(annual_simple_return=.3)\n",
    "        .sel(leverage=5)\n",
    "        .isel(sim=num)\n",
    "    )\n",
    "    \n",
    "    lines[num][0].set_data(\n",
    "        ds[\"date\"].where(not_liquidated_mask, drop=True).values,\n",
    "        (\n",
    "            ds[\"cum_returns\"]\n",
    "            .sel(annual_simple_return=.3)\n",
    "            .sel(leverage=5)\n",
    "            .isel(sim=num)\n",
    "            .where(not_liquidated_mask, drop=True)\n",
    "            .values\n",
    "        )\n",
    "    )\n",
    "    \n",
    "    lines[num][1].set_data(\n",
    "        ds[\"date\"].where(liquidated_mask, drop=True).values,\n",
    "        (\n",
    "            ds[\"cum_returns\"]\n",
    "            .sel(annual_simple_return=.3)\n",
    "            .sel(leverage=5)\n",
    "            .isel(sim=num)\n",
    "            .where(liquidated_mask, drop=True)\n",
    "            .values\n",
    "        )\n",
    "    )\n",
    "    \n",
    "    frac_liq_line.set_data(\n",
    "        ds[\"date\"],\n",
    "        (\n",
    "            ds[\"fraction_liquidated_simwise\"]\n",
    "            .sel(annual_simple_return=.3)\n",
    "            .sel(leverage=5)\n",
    "            .isel(sim=num)\n",
    "        )\n",
    "    )\n",
    "    \n",
    "    return lines[num] + [liq_line] + [frac_liq_line]"
   ]
  },
  {
   "cell_type": "code",
   "execution_count": null,
   "id": "e8c3b656-04c6-4c30-b8b7-ba2129ef0a8c",
   "metadata": {},
   "outputs": [],
   "source": [
    "ani = animation.FuncAnimation(\n",
    "    fig, add_line, num_walks, interval=100, blit=True)"
   ]
  },
  {
   "cell_type": "code",
   "execution_count": null,
   "id": "d6a89183-bd63-4ac1-b95e-2700bc5770a8",
   "metadata": {
    "tags": []
   },
   "outputs": [],
   "source": [
    "# %%timeit -r 1 -n 1\n",
    "\n",
    "# ani.save(\"movie_16_9.mp4\")"
   ]
  },
  {
   "cell_type": "code",
   "execution_count": null,
   "id": "f2eea9ac-f90b-4090-9f01-5eb711110ca6",
   "metadata": {
    "tags": []
   },
   "outputs": [],
   "source": [
    "for i in range(num_walks):\n",
    "    add_line(i)"
   ]
  },
  {
   "cell_type": "code",
   "execution_count": null,
   "id": "406cbcc6-7378-49f8-8d7f-268847b711e4",
   "metadata": {},
   "outputs": [],
   "source": [
    "# fig.savefig(\"sims_test.jpg\", bbox_inches=\"tight\")"
   ]
  },
  {
   "cell_type": "code",
   "execution_count": null,
   "id": "10ef2816-54cc-49c6-8327-f7262f165fcc",
   "metadata": {},
   "outputs": [],
   "source": [
    "ax2.set(ylim=(0, .8))\n",
    "\n",
    "ax.tick_params(bottom = False, left=False, right=False)\n",
    "ax.axes.xaxis.set_visible(False)\n",
    "ax.axes.yaxis.set_visible(False)\n",
    "ax2.axes.yaxis.set_visible(False)\n",
    "ax.legend().set_visible(False)\n",
    "ax.set_title('Leverage Intuition', y=.5, x=.5, pad=-14, fontsize=22)\n"
   ]
  },
  {
   "cell_type": "code",
   "execution_count": null,
   "id": "bd08633f-0e87-43d8-b9d2-89c0b2640cb7",
   "metadata": {},
   "outputs": [],
   "source": [
    "fig"
   ]
  },
  {
   "cell_type": "code",
   "execution_count": null,
   "id": "2c649221-1617-4a90-bfa9-45b110ca7e8e",
   "metadata": {},
   "outputs": [],
   "source": [
    "fig.savefig(\"cover.jpg\", bbox_inches=\"tight\", dpi=500)"
   ]
  },
  {
   "cell_type": "markdown",
   "id": "f4160b37-551d-44f1-bdf5-44cb5336b568",
   "metadata": {
    "tags": []
   },
   "source": [
    "### Interactive Widget"
   ]
  },
  {
   "cell_type": "code",
   "execution_count": null,
   "id": "cca6bb44-22fb-47e2-a4f4-5bf3de7b6664",
   "metadata": {},
   "outputs": [],
   "source": [
    "def simulate_and_plot(annual_simple_return, leverage):\n",
    "    ds = simulate(\n",
    "        annual_simple_return=np.array([annual_simple_return]),\n",
    "        leverage=np.array([leverage])\n",
    "    )\n",
    "    \n",
    "    (\n",
    "        ds[\"fraction_liquidated\"]\n",
    "        .squeeze()\n",
    "    ).T.to_pandas().plot(title=\"fraction of return paths liquidated over time\", xlabel=\"days\", ylabel=\"fraction of return paths\", ylim=(0, 1))\n",
    "\n"
   ]
  },
  {
   "cell_type": "code",
   "execution_count": null,
   "id": "1ad6b487-820a-4d26-a897-16c6f4572ce0",
   "metadata": {},
   "outputs": [],
   "source": [
    "int_style = {'description_width': '150px'}\n",
    "slider_layout = Layout(width='50%')"
   ]
  },
  {
   "cell_type": "code",
   "execution_count": null,
   "id": "982f0a24-13ca-4874-acce-87570557b929",
   "metadata": {},
   "outputs": [],
   "source": [
    "interact(\n",
    "    simulate_and_plot, \n",
    "    annual_simple_return=FloatSlider(\n",
    "        min=-.5,\n",
    "        max=3,\n",
    "        step=.1,\n",
    "        value=.3,\n",
    "        description='Expected Annual Return (%)',\n",
    "        style=int_style,\n",
    "        layout=slider_layout\n",
    "    ),\n",
    "    leverage=FloatSlider(\n",
    "        min=0,\n",
    "        max=20,\n",
    "        step=1,\n",
    "        value=5,\n",
    "        description='leverage',\n",
    "        style=int_style,\n",
    "        layout=slider_layout\n",
    "    ),\n",
    ");"
   ]
  },
  {
   "cell_type": "code",
   "execution_count": null,
   "id": "03935144-f44a-4593-9626-ffefa9de3729",
   "metadata": {},
   "outputs": [],
   "source": []
  }
 ],
 "metadata": {
  "kernelspec": {
   "display_name": "Python 3 (ipykernel)",
   "language": "python",
   "name": "python3"
  },
  "language_info": {
   "codemirror_mode": {
    "name": "ipython",
    "version": 3
   },
   "file_extension": ".py",
   "mimetype": "text/x-python",
   "name": "python",
   "nbconvert_exporter": "python",
   "pygments_lexer": "ipython3",
   "version": "3.9.13"
  }
 },
 "nbformat": 4,
 "nbformat_minor": 5
}
